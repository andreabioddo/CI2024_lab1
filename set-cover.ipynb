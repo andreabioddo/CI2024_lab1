{
 "cells": [
  {
   "cell_type": "markdown",
   "metadata": {},
   "source": [
    "# Set Cover problem\n",
    "\n",
    "See: https://en.wikipedia.org/wiki/Set_cover_problem"
   ]
  },
  {
   "cell_type": "code",
   "execution_count": 13,
   "metadata": {},
   "outputs": [],
   "source": [
    "from random import random, seed\n",
    "from itertools import product, accumulate\n",
    "import numpy as np\n",
    "import random\n",
    "from tqdm.auto import tqdm\n",
    "from icecream import ic"
   ]
  },
  {
   "cell_type": "markdown",
   "metadata": {},
   "source": [
    "## Reproducible Initialization\n",
    "\n",
    "If you want to get reproducible results, use `rng` (and restart the kernel); for non-reproducible ones, use `np.random`."
   ]
  },
  {
   "cell_type": "code",
   "execution_count": 14,
   "metadata": {},
   "outputs": [],
   "source": [
    "UNIVERSE_SIZE = 100_000\n",
    "NUM_SETS = 10_000\n",
    "DENSITY = 0.3\n",
    "MAX_STEPS = 1000\n",
    "\n",
    "rng = np.random.Generator(np.random.PCG64([UNIVERSE_SIZE, NUM_SETS, int(10_000 * DENSITY)]))"
   ]
  },
  {
   "cell_type": "code",
   "execution_count": 15,
   "metadata": {},
   "outputs": [],
   "source": [
    "# DON'T EDIT THESE LINES!\n",
    "\n",
    "SETS = np.random.random((NUM_SETS, UNIVERSE_SIZE)) < DENSITY\n",
    "for s in range(UNIVERSE_SIZE):\n",
    "    if not np.any(SETS[:, s]):\n",
    "        SETS[np.random.randint(NUM_SETS), s] = True\n",
    "COSTS = np.pow(SETS.sum(axis=1), 1.1)\n"
   ]
  },
  {
   "cell_type": "markdown",
   "metadata": {},
   "source": [
    "## Helper Functions"
   ]
  },
  {
   "cell_type": "code",
   "execution_count": 16,
   "metadata": {},
   "outputs": [],
   "source": [
    "def valid(solution):\n",
    "    \"\"\"Checks wether solution is valid (ie. covers all universe)\"\"\"\n",
    "    phenotype = np.logical_or.reduce(SETS[solution])\n",
    "    return np.all(phenotype)\n",
    "\n",
    "\n",
    "def cost(solution):\n",
    "    \"\"\"Returns the cost of a solution (to be minimized)\"\"\"\n",
    "    return COSTS[solution].sum()"
   ]
  },
  {
   "cell_type": "markdown",
   "metadata": {},
   "source": [
    "## Have Fun!"
   ]
  },
  {
   "cell_type": "code",
   "execution_count": 17,
   "metadata": {},
   "outputs": [
    {
     "data": {
      "text/plain": [
       "(np.True_, np.float64(841057758.4554561))"
      ]
     },
     "execution_count": 17,
     "metadata": {},
     "output_type": "execute_result"
    }
   ],
   "source": [
    "# A dumb solution of \"all\" sets\n",
    "solution = np.full(NUM_SETS, True)\n",
    "valid(solution), cost(solution)"
   ]
  },
  {
   "cell_type": "code",
   "execution_count": 18,
   "metadata": {},
   "outputs": [
    {
     "data": {
      "text/plain": [
       "(np.True_, np.float64(423495376.07525027))"
      ]
     },
     "execution_count": 18,
     "metadata": {},
     "output_type": "execute_result"
    }
   ],
   "source": [
    "# A random solution with random 50% of the sets\n",
    "solution = rng.random(NUM_SETS) < .5\n",
    "valid(solution), cost(solution)"
   ]
  },
  {
   "cell_type": "markdown",
   "metadata": {},
   "source": [
    "# Different Tweak Functions"
   ]
  },
  {
   "cell_type": "code",
   "execution_count": 19,
   "metadata": {},
   "outputs": [],
   "source": [
    "def single_mutation(solution: np.ndarray) -> np.ndarray:\n",
    "    new_sol = solution.copy()\n",
    "    i = rng.integers(0, NUM_SETS)\n",
    "    new_sol[i] = not new_sol[i]\n",
    "    return new_sol\n",
    "\n",
    "def multiple_mutations(solution: np.ndarray) -> np.ndarray:\n",
    "    new_sol = solution.copy()\n",
    "    mask = rng.random(NUM_SETS) < 0.01\n",
    "    new_sol = np.logical_xor(new_sol, mask)\n",
    "    return new_sol\n",
    "\n",
    "#Improved RHMC\n",
    "def multiple_mutations_strenght(solution, strenghts: float = 0.3):\n",
    "    mask = rng.random(NUM_SETS) < strenghts\n",
    "    if not np.any(mask):\n",
    "        mask[np.random.randint(NUM_SETS)] = True\n",
    "    new_sol = np.logical_xor(solution, mask)\n",
    "    return new_sol\n"
   ]
  },
  {
   "cell_type": "markdown",
   "metadata": {},
   "source": [
    "## Fitness Function"
   ]
  },
  {
   "cell_type": "code",
   "execution_count": 20,
   "metadata": {},
   "outputs": [],
   "source": [
    "def fitness(solution: np.ndarray) -> float:\n",
    "    return (valid(solution), -cost(solution))"
   ]
  },
  {
   "cell_type": "markdown",
   "metadata": {},
   "source": [
    "## Hill Climber with multiple mutations strenght"
   ]
  },
  {
   "cell_type": "code",
   "execution_count": 21,
   "metadata": {},
   "outputs": [
    {
     "name": "stderr",
     "output_type": "stream",
     "text": [
      "ic| fitness(best_solution): (np.True_, np.float64(-417056121.5052584))\n"
     ]
    }
   ],
   "source": [
    "def hc():\n",
    "    BUFFER_SIZE = 13\n",
    "    solution = rng.random(NUM_SETS) < 0.5\n",
    "    \n",
    "    while(not valid(solution)):\n",
    "        solution = multiple_mutations_strenght(solution, 0.1)\n",
    "\n",
    "    best_solution = solution.copy()\n",
    "\n",
    "    solution_fitness = fitness(best_solution)\n",
    "    ic(fitness(best_solution))\n",
    "    history = [float(solution_fitness[1])]\n",
    "\n",
    "    tweak = multiple_mutations_strenght\n",
    "    strenghts = 0.0001 \n",
    "    buffer = list()\n",
    "\n",
    "    for steps in range(MAX_STEPS):\n",
    "        # SELF ADAPTED\n",
    "        if steps % 1000:\n",
    "            strenghts /= 2\n",
    "        new_sol = tweak(best_solution, strenghts=strenghts)\n",
    "        f = fitness(new_sol)\n",
    "        history.append(float(f[1]))\n",
    "        buffer.append(f > solution_fitness)\n",
    "        buffer = buffer[-BUFFER_SIZE:]\n",
    "        if sum(buffer) > BUFFER_SIZE * 1.2:\n",
    "            strenghts*= 1.2\n",
    "        elif sum(buffer) < BUFFER_SIZE / 2:\n",
    "            strenghts /= 1.2\n",
    "        \n",
    "        if  f > solution_fitness:\n",
    "            best_solution = new_sol \n",
    "            solution_fitness = fitness(best_solution)\n",
    "            \n",
    "    ic(fitness(best_solution))\n",
    "\n",
    "    from matplotlib import pyplot as plt\n",
    "\n",
    "    plt.figure()\n",
    "    plt.plot(\n",
    "        range(len(history)),\n",
    "        list(accumulate(history, max)),\n",
    "        color=\"red\",\n",
    "    )\n",
    "\n",
    "    plt.scatter(range(len(history)), history, marker=\".\")\n",
    "    \n",
    "hc()"
   ]
  },
  {
   "cell_type": "markdown",
   "metadata": {},
   "source": [
    "## Hill Climber with single mutations "
   ]
  },
  {
   "cell_type": "code",
   "execution_count": null,
   "metadata": {},
   "outputs": [
    {
     "name": "stderr",
     "output_type": "stream",
     "text": [
      "ic| fitness(best_solution): (np.True_, np.float64(-270561414.377495))\n",
      "ic| fitness(best_solution): (np.True_, np.float64(-246658890.72886306))\n"
     ]
    },
    {
     "data": {
      "image/png": "[encoded data removed]",
      "text/plain": [
       "<Figure size 640x480 with 1 Axes>"
      ]
     },
     "metadata": {},
     "output_type": "display_data"
    }
   ],
   "source": [
    "def hc():\n",
    "    BUFFER_SIZE = 13\n",
    "    solution = rng.random(NUM_SETS) < 0.5\n",
    "    \n",
    "    while(not valid(solution)):\n",
    "        solution = single_mutation(solution)\n",
    "        \n",
    "    best_solution = solution.copy()\n",
    "    solution_fitness = fitness(best_solution)\n",
    "    ic(fitness(best_solution))\n",
    "    history = [float(solution_fitness[1])]\n",
    "\n",
    "    tweak = single_mutation\n",
    "    buffer = list()\n",
    "    for steps in range(MAX_STEPS):\n",
    "        new_sol = tweak(best_solution)\n",
    "        f = fitness(new_sol)\n",
    "        history.append(float(f[1]))\n",
    "        buffer.append(f > solution_fitness)\n",
    "        buffer = buffer[-BUFFER_SIZE:]\n",
    "        \n",
    "        if  f > solution_fitness:\n",
    "            best_solution = new_sol \n",
    "            solution_fitness = fitness(best_solution)\n",
    "        \n",
    "    ic(fitness(best_solution))\n",
    "\n",
    "    from matplotlib import pyplot as plt\n",
    "\n",
    "    plt.figure()\n",
    "    plt.plot(\n",
    "        range(len(history)),\n",
    "        list(accumulate(history, max)),\n",
    "        color=\"red\",\n",
    "    )\n",
    "\n",
    "    plt.scatter(range(len(history)), history, marker=\".\")\n",
    "    \n",
    "hc()"
   ]
  },
  {
   "cell_type": "markdown",
   "metadata": {},
   "source": [
    "## Hill Climber with multiple mutations"
   ]
  },
  {
   "cell_type": "code",
   "execution_count": null,
   "metadata": {},
   "outputs": [
    {
     "name": "stderr",
     "output_type": "stream",
     "text": [
      "ic| fitness(best_solution): (np.True_, np.float64(-270768393.16892236))\n",
      "ic| fitness(best_solution): (np.True_, np.float64(-246148120.01120287))\n"
     ]
    },
    {
     "data": {
      "image/png": "[encoded data removed]",
      "text/plain": [
       "<Figure size 640x480 with 1 Axes>"
      ]
     },
     "metadata": {},
     "output_type": "display_data"
    }
   ],
   "source": [
    "def hc():\n",
    "    BUFFER_SIZE = 13\n",
    "    solution = rng.random(NUM_SETS) < 0.5\n",
    "    \n",
    "    \n",
    "    while(not valid(solution)):\n",
    "        solution = multiple_mutations(solution)\n",
    "        \n",
    "    best_solution = solution.copy()\n",
    "    solution_fitness = fitness(best_solution)\n",
    "    ic(fitness(best_solution))\n",
    "    history = [float(solution_fitness[1])]\n",
    "\n",
    "    tweak = single_mutation\n",
    "    buffer = list()\n",
    "    for steps in range(MAX_STEPS):\n",
    "        new_sol = tweak(best_solution)\n",
    "        f = fitness(new_sol)\n",
    "        history.append(float(f[1]))\n",
    "        buffer.append(f > solution_fitness)\n",
    "        buffer = buffer[-BUFFER_SIZE:]\n",
    "        \n",
    "        if  f > solution_fitness:\n",
    "            best_solution = new_sol \n",
    "            solution_fitness = fitness(best_solution)\n",
    "            \n",
    "    ic(fitness(best_solution))\n",
    "\n",
    "    from matplotlib import pyplot as plt\n",
    "\n",
    "    plt.figure()\n",
    "    plt.plot(\n",
    "        range(len(history)),\n",
    "        list(accumulate(history, max)),\n",
    "        color=\"red\",\n",
    "    )\n",
    "\n",
    "    plt.scatter(range(len(history)), history, marker=\".\")\n",
    "    \n",
    "hc()"
   ]
  },
  {
   "cell_type": "markdown",
   "metadata": {},
   "source": [
    "## Simulated Annealing with multiple mutations"
   ]
  },
  {
   "cell_type": "code",
   "execution_count": null,
   "metadata": {
    "tags": []
   },
   "outputs": [
    {
     "name": "stderr",
     "output_type": "stream",
     "text": [
      "ic| fitness(best_solution): (np.True_, np.float64(-270434350.299506))\n"
     ]
    },
    {
     "data": {
      "application/vnd.jupyter.widget-view+json": {
       "model_id": "81edfbe8b2e3418f887e44d639b04a01",
       "version_major": 2,
       "version_minor": 0
      },
      "text/plain": [
       "  0%|          | 0/1000 [00:00<?, ?it/s]"
      ]
     },
     "metadata": {},
     "output_type": "display_data"
    },
    {
     "name": "stderr",
     "output_type": "stream",
     "text": [
      "ic| fitness(best_solution): (np.True_, np.float64(-225883266.2655993))\n"
     ]
    },
    {
     "data": {
      "image/png": "[encoded data removed]",
      "text/plain": [
       "<Figure size 640x480 with 1 Axes>"
      ]
     },
     "metadata": {},
     "output_type": "display_data"
    }
   ],
   "source": [
    "def simulated_annealing():\n",
    "    solution = rng.random(NUM_SETS) < 0.5\n",
    "    \n",
    "    while(not valid(solution)):\n",
    "        solution = multiple_mutations(solution)\n",
    "        \n",
    "    current_solution = solution.copy()\n",
    "    best_solution = solution.copy()\n",
    "\n",
    "    fitness_solution = fitness(best_solution)\n",
    "    history = [fitness_solution[1]]       \n",
    "    temperature = 1000\n",
    "    tweak = multiple_mutations\n",
    "    ic(fitness(best_solution))\n",
    "\n",
    "    for step in tqdm(range(MAX_STEPS)):\n",
    "\n",
    "        new_solution = tweak(current_solution)\n",
    "        f = fitness(new_solution)\n",
    "        history.append(f[1]) \n",
    "\n",
    "        if valid(new_solution):\n",
    "            new_cost = -f[1]\n",
    "            cost_diff = new_cost - (-fitness_solution[1])\n",
    "\n",
    "            if cost_diff < 0 or np.random.random() < np.exp(-cost_diff / temperature):\n",
    "                current_solution = new_solution.copy()\n",
    "\n",
    "            if f[1] > fitness_solution[1]:\n",
    "                best_solution = new_solution.copy()\n",
    "                fitness_solution = f\n",
    "\n",
    "        if temperature > 1e-17:\n",
    "            temperature *= 0.985\n",
    "\n",
    "    ic(fitness(best_solution))\n",
    "\n",
    "    from matplotlib import pyplot as plt\n",
    "\n",
    "    plt.figure()\n",
    "    plt.plot(\n",
    "        range(len(history)),\n",
    "        list(accumulate(history, max)),\n",
    "        color=\"red\",\n",
    "    )\n",
    "\n",
    "    plt.scatter(range(len(history)), history, marker=\".\")\n",
    "    \n",
    "simulated_annealing()"
   ]
  }
 ],
 "metadata": {
  "kernelspec": {
   "display_name": "Python 3 (ipykernel)",
   "language": "python",
   "name": "python3"
  },
  "language_info": {
   "codemirror_mode": {
    "name": "ipython",
    "version": 3
   },
   "file_extension": ".py",
   "mimetype": "text/x-python",
   "name": "python",
   "nbconvert_exporter": "python",
   "pygments_lexer": "ipython3",
   "version": "3.12.6"
  }
 },
 "nbformat": 4,
 "nbformat_minor": 4
}
